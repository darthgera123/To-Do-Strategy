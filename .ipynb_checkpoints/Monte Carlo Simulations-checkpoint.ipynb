{
 "cells": [
  {
   "cell_type": "code",
   "execution_count": 9,
   "metadata": {},
   "outputs": [],
   "source": [
    "from recordtype import recordtype\n",
    "import numpy as np\n",
    "import matplotlib.pyplot as plt\n",
    "%matplotlib inline"
   ]
  },
  {
   "cell_type": "code",
   "execution_count": 4,
   "metadata": {},
   "outputs": [],
   "source": [
    "Task = recordtype('Task','weight duration due done')"
   ]
  },
  {
   "cell_type": "code",
   "execution_count": 14,
   "metadata": {},
   "outputs": [],
   "source": [
    "def create_tasks(num):\n",
    "    tasks = []\n",
    "    dist = np.round(np.random.exponential(5,10000))\n",
    "    for i in range(num):\n",
    "        due = np.random.choice(dist)+1\n",
    "        weight = np.random.randint(1,100)\n",
    "        duration = np.random.randint(0,due)\n",
    "#         print(due,weight,duration)\n",
    "        t = Task.append(weight=weight, duration = duration, due=due,done=0)"
   ]
  },
  {
   "cell_type": "code",
   "execution_count": 15,
   "metadata": {},
   "outputs": [],
   "source": [
    "def tally(comp_task,all_task):\n",
    "    completed = len(comp_task)/len(all_task)\n",
    "    \n",
    "#     we set 75th percentile of all tasks based on weight as important tasks\n",
    "    percentile = int(0.75*len(all_task))\n",
    "    imp_tasks = sorted(all_task, key = lambda x: x.weight)[percentile:len(all_task)]\n",
    "    \n",
    "#     check how many important tasks are completed\n",
    "    overlap = 0\n",
    "    for i in imp_tasks:\n",
    "        if i in comp_task:\n",
    "            overlap += 1\n",
    "    if len(imp_tasks) > 0:\n",
    "        important = overlap/len(imp_tasks)\n",
    "    else:\n",
    "        important = 0\n",
    "    \n",
    "    intime = []\n",
    "    for i in comp_task:\n",
    "        if i.due >= i.done:\n",
    "            intime.append(i)\n",
    "    intime_task = len(intime)/len(all_task)\n",
    "    \n",
    "    return (completed,important,intime_task)"
   ]
  },
  {
   "cell_type": "code",
   "execution_count": 16,
   "metadata": {
    "collapsed": true
   },
   "outputs": [],
   "source": [
    "def duration(t):\n",
    "    return t.duration\n",
    "\n",
    "def simulate(ratio,*tasks):\n",
    "    deadline = ratio *sum(list(map(duration,tasks)))\n",
    "    completed_tasks = []\n",
    "    elapsed_time = 0\n",
    "    for task in tasks:\n",
    "        elapsed_time += task.duration\n",
    "        if elapsed_time <= deadline:\n",
    "            task.done = elasped_time\n",
    "            completed_tasks.append(task)\n",
    "        else:\n",
    "            break\n",
    "    return tally(completed_tasks,tasks)"
   ]
  },
  {
   "cell_type": "code",
   "execution_count": null,
   "metadata": {
    "collapsed": true
   },
   "outputs": [],
   "source": []
  }
 ],
 "metadata": {
  "kernelspec": {
   "display_name": "Python 3",
   "language": "python",
   "name": "python3"
  },
  "language_info": {
   "codemirror_mode": {
    "name": "ipython",
    "version": 3
   },
   "file_extension": ".py",
   "mimetype": "text/x-python",
   "name": "python",
   "nbconvert_exporter": "python",
   "pygments_lexer": "ipython3",
   "version": "3.6.10"
  }
 },
 "nbformat": 4,
 "nbformat_minor": 2
}
